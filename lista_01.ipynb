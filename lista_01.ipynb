{
  "nbformat": 4,
  "nbformat_minor": 0,
  "metadata": {
    "colab": {
      "provenance": [],
      "collapsed_sections": [
        "yDHPVwB8qene"
      ],
      "include_colab_link": true
    },
    "kernelspec": {
      "name": "python3",
      "display_name": "Python 3"
    },
    "language_info": {
      "name": "python"
    }
  },
  "cells": [
    {
      "cell_type": "markdown",
      "metadata": {
        "id": "view-in-github",
        "colab_type": "text"
      },
      "source": [
        "<a href=\"https://colab.research.google.com/github/gbladislau/DataScienceLabs/blob/main/lista_01.ipynb\" target=\"_parent\"><img src=\"https://colab.research.google.com/assets/colab-badge.svg\" alt=\"Open In Colab\"/></a>"
      ]
    },
    {
      "cell_type": "markdown",
      "metadata": {
        "id": "i4nzT8Hk2y6j"
      },
      "source": [
        "#Lista 1: Um pouco mais sobre CDFs, BoxPlots, histogramas..."
      ]
    },
    {
      "cell_type": "markdown",
      "metadata": {
        "id": "fOJUqPvI6WH2"
      },
      "source": [
        "## Forma de entrega"
      ]
    },
    {
      "cell_type": "markdown",
      "metadata": {
        "id": "o8jhiXIp7HqR"
      },
      "source": [
        "Salve essa página (com código e respostas geradas) em ``.pdf`` e submeta o documento na atividade do AVA (apenas um integrante do grupo deve fazer a submissão)."
      ]
    },
    {
      "cell_type": "markdown",
      "metadata": {
        "id": "8U9gFifd7HMT"
      },
      "source": [
        "## Grupos"
      ]
    },
    {
      "cell_type": "markdown",
      "metadata": {
        "id": "UxcS3w0_7Ggi"
      },
      "source": [
        "* **Graduação:** grupo de até 3 pessoas\n",
        "* **Pós-Graduação:** individual"
      ]
    },
    {
      "cell_type": "markdown",
      "metadata": {
        "id": "qqe5ZBWT2b-X"
      },
      "source": [
        "## Integrantes do grupo"
      ]
    },
    {
      "cell_type": "markdown",
      "metadata": {
        "id": "OqwCQmTe2RGv"
      },
      "source": [
        "1. **Nome(s):**\n",
        "\n",
        "2. **Matrícula(s):**\n",
        "\n",
        "3. **E-mail(s) institucional(is):**\n",
        "\n",
        "3. **Curso(s):**\n",
        "\n",
        "4. **Link do seu Colab com suas soluções (para que o professor possa acessar e rodar o código):**"
      ]
    },
    {
      "cell_type": "markdown",
      "source": [
        "## Sobre a Avaliação"
      ],
      "metadata": {
        "id": "_ZlfzogxiyST"
      }
    },
    {
      "cell_type": "markdown",
      "source": [
        "Todas questões têm o mesmo peso/valor."
      ],
      "metadata": {
        "id": "01ytNfm8i3Ce"
      }
    },
    {
      "cell_type": "markdown",
      "metadata": {
        "id": "_PiKrsM42n45"
      },
      "source": [
        "## Questão 1"
      ]
    },
    {
      "cell_type": "markdown",
      "metadata": {
        "id": "5X1x_nS12XyJ"
      },
      "source": [
        "O objetivo desta questão é comparar as **Funções de Distribuição** (i.e., CDF) teórica e empírica de algumas distribuições contínuas bem conhecidas.\n",
        "\n",
        "Lembre-se que nós conversamos um pouco sobre CDFs na Aula 3."
      ]
    },
    {
      "cell_type": "markdown",
      "metadata": {
        "id": "yz9DsadyYzsg"
      },
      "source": [
        "### Exemplo"
      ]
    },
    {
      "cell_type": "markdown",
      "metadata": {
        "id": "BvWWEIi52cD4"
      },
      "source": [
        "Vamos começar com um exemplo sobre a distribuição Uniforme contínua.\n",
        "\n",
        "A biblioteca ``scipy`` possui funcionalidades para gerar números pseudo-aleatórios e para computar valores da CDF teórica da distribuição. Leia mais sobre em https://docs.scipy.org/doc/scipy/reference/generated/scipy.stats.uniform.html.\n",
        "\n",
        "A biblioteca ``statsmodels`` possui funcionalidades para computar a CDF empírica de um conjunto de observações."
      ]
    },
    {
      "cell_type": "code",
      "metadata": {
        "id": "tdmVdYNB2bPg",
        "colab": {
          "base_uri": "https://localhost:8080/"
        },
        "outputId": "e1835afb-542e-4891-8d1a-ab2836dc6122"
      },
      "source": [
        "from scipy.stats import uniform\n",
        "import matplotlib.pyplot as plt\n",
        "from statsmodels.distributions.empirical_distribution import ECDF"
      ],
      "execution_count": null,
      "outputs": [
        {
          "output_type": "stream",
          "name": "stderr",
          "text": [
            "/usr/local/lib/python3.7/dist-packages/statsmodels/tools/_testing.py:19: FutureWarning: pandas.util.testing is deprecated. Use the functions in the public API at pandas.testing instead.\n",
            "  import pandas.util.testing as tm\n"
          ]
        }
      ]
    },
    {
      "cell_type": "code",
      "metadata": {
        "id": "Vl9S2x2X5meG"
      },
      "source": [
        "def plot_uniform_cdf(loc, scale, n):\n",
        "  # gera 'n' números de uma distribuição uniforme contínua no\n",
        "  # intervalo [loc, loc + scale]\n",
        "  r = uniform.rvs(loc = loc, scale = scale, size = n)\n",
        "\n",
        "  # plota a CDF empírica dos números gerados\n",
        "  cdf = ECDF(r)\n",
        "  plt.plot(cdf.x, cdf.y, linewidth = 3, alpha = 0.5, color = 'blue',\n",
        "           label = 'Empírica')\n",
        "\n",
        "  # plota a CDF teórica de uma distribuição contínua uniforme no intervalo\n",
        "  # [loc, loc + scale]\n",
        "  plt.plot(cdf.x, uniform.cdf(cdf.x, loc = loc, scale = scale),\n",
        "           alpha = 0.5, label = 'Teórica', color = 'red',\n",
        "           linewidth = 3, zorder = 0);\n",
        "\n",
        "  # Ajustes de rótulos e tamanho da figura...\n",
        "  plt.legend(loc = 'best');\n",
        "  plt.xlabel(r'$x$');\n",
        "  plt.ylabel(r'CDF');\n",
        "  plt.gcf().set_size_inches(3.5, 3.5)"
      ],
      "execution_count": null,
      "outputs": []
    },
    {
      "cell_type": "code",
      "metadata": {
        "colab": {
          "base_uri": "https://localhost:8080/",
          "height": 252
        },
        "id": "FdsX48Al5rBZ",
        "outputId": "a455007c-4ea3-4ddf-e7b3-0b5e12d150ac"
      },
      "source": [
        "plot_uniform_cdf(5, 5, 1000)"
      ],
      "execution_count": null,
      "outputs": [
        {
          "output_type": "display_data",
          "data": {
            "image/png": "[encoded data removed]",
            "text/plain": [
              "<Figure size 252x252 with 1 Axes>"
            ]
          },
          "metadata": {
            "needs_background": "light"
          }
        }
      ]
    },
    {
      "cell_type": "code",
      "metadata": {
        "colab": {
          "base_uri": "https://localhost:8080/",
          "height": 252
        },
        "id": "L3uO3uXD51bP",
        "outputId": "566e19e4-6540-4bc1-c62a-7a24c1babcbe"
      },
      "source": [
        "plot_uniform_cdf(0, 1, 1000)"
      ],
      "execution_count": null,
      "outputs": [
        {
          "output_type": "display_data",
          "data": {
            "image/png": "[encoded data removed]",
            "text/plain": [
              "<Figure size 252x252 with 1 Axes>"
            ]
          },
          "metadata": {
            "needs_background": "light"
          }
        }
      ]
    },
    {
      "cell_type": "markdown",
      "metadata": {
        "id": "8cGPK8rGY4tn"
      },
      "source": [
        "### Parte (*a*)"
      ]
    },
    {
      "cell_type": "markdown",
      "metadata": {
        "id": "XjU8ziH83G4W"
      },
      "source": [
        "Repita a análise acima para a distribuição normal. Lembre-se que a distribuição normal possui dois parâmetros: $\\mu$ e $\\sigma$.\n",
        "\n",
        "Consulte https://docs.scipy.org/doc/scipy/reference/generated/scipy.stats.norm.html para gerar números pseudo-aleatórios e para computar a CDF da distribuição normal.\n",
        "\n",
        "Você deve:\n",
        "1. Completar a função abaixo para gerar gráficos comparativos entre as CDFs empíricas e teóricas da distribuição normal;\n",
        "2. Executar seu código, variando os parâmetros da distribuição e número de elementos gerados."
      ]
    },
    {
      "cell_type": "code",
      "metadata": {
        "id": "8SWZ5Loa3K20"
      },
      "source": [
        "from scipy.stats import norm"
      ],
      "execution_count": null,
      "outputs": []
    },
    {
      "cell_type": "code",
      "metadata": {
        "id": "kEpo2eoLZDt6"
      },
      "source": [
        "def plot_normal_cdf(mu, sigma, n):\n",
        "  #TODO\n",
        "  pass"
      ],
      "execution_count": null,
      "outputs": []
    },
    {
      "cell_type": "code",
      "metadata": {
        "id": "qmemWJcX3bZx"
      },
      "source": [
        "plot_normal_cdf(0, 1, 100)"
      ],
      "execution_count": null,
      "outputs": []
    },
    {
      "cell_type": "code",
      "metadata": {
        "id": "r8e5iL0c3YAc"
      },
      "source": [
        "plot_normal_cdf(0, 1, 1000)"
      ],
      "execution_count": null,
      "outputs": []
    },
    {
      "cell_type": "code",
      "metadata": {
        "id": "zF3JqS13ZPw7"
      },
      "source": [
        "plot_normal_cdf(5, 5, 1000)"
      ],
      "execution_count": null,
      "outputs": []
    },
    {
      "cell_type": "markdown",
      "metadata": {
        "id": "7ZoVQe2-Znv3"
      },
      "source": [
        "### Parte (*b*)"
      ]
    },
    {
      "cell_type": "markdown",
      "metadata": {
        "id": "inb8XUGN30PB"
      },
      "source": [
        "Repita a análise inicial para a distribuição exponencial. Lembre-se, dado um parâmetro $\\lambda > 0$, a densidade da distribuição exponencial é:\n",
        "$$f(x) = \\lambda e^{-\\lambda x}\\text{, } x > 0.$$\n",
        "\n",
        "Consulte https://docs.scipy.org/doc/scipy/reference/generated/scipy.stats.expon.html para gerar números pseudo-aleatórios e para computar a CDF da distribuição exponencial.\n",
        "\n",
        "Você deve:\n",
        "1. Completar a função abaixo para gerar gráficos comparativos entre as CDFs empíricas e teóricas da distribuição exponencial;\n",
        "2. Executar seu código, variando os parâmetros da distribuição e número de elementos gerados.\n",
        "\n",
        "**ATENÇÃO:** Leia com atenção a documentação da biblioteca mencionada para entender como o parâmetro $\\lambda$ deve ser fornecido. O $\\lambda$ da definição acima não é o mesmo que o `scale` da biblioteca."
      ]
    },
    {
      "cell_type": "code",
      "metadata": {
        "id": "3ARZzm2t3mDK"
      },
      "source": [
        "from scipy.stats import expon"
      ],
      "execution_count": null,
      "outputs": []
    },
    {
      "cell_type": "code",
      "metadata": {
        "id": "xUhhmOCUZT4p"
      },
      "source": [
        "def plot_exponential_cdf(lambda_, n):\n",
        "  # TODO\n",
        "  pass"
      ],
      "execution_count": null,
      "outputs": []
    },
    {
      "cell_type": "code",
      "metadata": {
        "id": "f23sX66yahK5"
      },
      "source": [
        "plot_exponential_cdf(1, 100)"
      ],
      "execution_count": null,
      "outputs": []
    },
    {
      "cell_type": "code",
      "metadata": {
        "id": "K5DOQJNopiJC"
      },
      "source": [
        "plot_exponential_cdf(5, 1000)\n"
      ],
      "execution_count": null,
      "outputs": []
    },
    {
      "cell_type": "markdown",
      "metadata": {
        "id": "IcItHjGuam9M"
      },
      "source": [
        "### Parte (*c*)"
      ]
    },
    {
      "cell_type": "markdown",
      "metadata": {
        "id": "NA3lSr694Jxa"
      },
      "source": [
        "Agora as coisas ficam mais interessantes...\n",
        "\n",
        "Repita a análise inicial para a distribuição de pareto. Lembre-se, dado um parâmetro $b > 0$, a densidade da distribuição de pareto é:\n",
        "$$f(x) = \\frac{b}{x^{b+1}}\\text{, } x \\ge 1.$$\n",
        "\n",
        "Consulte https://docs.scipy.org/doc/scipy/tutorial/stats/continuous_pareto.html para gerar números pseudo-aleatórios e para computar a CDF da distribuição de pareto.\n",
        "\n",
        "Você deve:\n",
        "1. Completar a função abaixo para gerar gráficos comparativos entre as CDFs empíricas e teóricas da distribuição de pareto;\n",
        "2. Executar seu código, variando os parâmetros da distribuição e número de elementos gerados."
      ]
    },
    {
      "cell_type": "code",
      "metadata": {
        "id": "LRPdecOGajYf"
      },
      "source": [
        "from scipy.stats import pareto"
      ],
      "execution_count": null,
      "outputs": []
    },
    {
      "cell_type": "code",
      "metadata": {
        "id": "JCls5wzZ4VXs"
      },
      "source": [
        "def plot_pareto_cdf(b, n):\n",
        "  # TODO\n",
        "  pass"
      ],
      "execution_count": null,
      "outputs": []
    },
    {
      "cell_type": "code",
      "metadata": {
        "id": "x5elNRYxbYiR"
      },
      "source": [
        "plot_pareto_cdf(3, 100)"
      ],
      "execution_count": null,
      "outputs": []
    },
    {
      "cell_type": "code",
      "metadata": {
        "id": "Vt3mOjOxbcwQ"
      },
      "source": [
        "plot_pareto_cdf(2, 1000)"
      ],
      "execution_count": null,
      "outputs": []
    },
    {
      "cell_type": "code",
      "metadata": {
        "id": "wL1tF4gNbm1Q"
      },
      "source": [
        "plot_pareto_cdf(1, 1000)"
      ],
      "execution_count": null,
      "outputs": []
    },
    {
      "cell_type": "code",
      "metadata": {
        "id": "OvCjutyVqzRN"
      },
      "source": [
        "plot_pareto_cdf(0.5, 1000)"
      ],
      "execution_count": null,
      "outputs": []
    },
    {
      "cell_type": "markdown",
      "metadata": {
        "id": "Exa5GmKLq50Z"
      },
      "source": [
        "Após fazer as figuras, você provavelmente observou que para valores pequenos de $b$, a CDF da distribuição de pareto é bastante difícil de ler, uma vez que fica praticamente \"colada\" às retas $x = 0$ e $y = 1$.\n",
        "\n",
        "Esse fenômeno ocorre porque, quando $b$ é pequeno, valores muito grandes (i.e., discrepantes ou *outliers*) têm uma probabilidade não negligível de ocorrerem.\n",
        "\n",
        "Quando observamos o comportamento das figuras acima, devemos modificar a forma de visualizar a distribuição:\n",
        "1. Devemos gerar uma figura para a CCDF (*Complementary Cumulative Distribution Function*). A CCDF de um valor $x$ é definida como 1 menos a CDF de $x$.\n",
        "2. Devemos colocar os eixos $x$ e $y$ em escala logarítmica.\n",
        "\n",
        "Complete a função abaixo para gerar a figura da forma descrita acima e gere os gráficos para os mesmos casos que testou anteriormente."
      ]
    },
    {
      "cell_type": "code",
      "metadata": {
        "id": "zGM1Bp-iZy7c"
      },
      "source": [
        "def plot_pareto_ccdf(b, n):\n",
        "  #TODO\n",
        "  pass"
      ],
      "execution_count": null,
      "outputs": []
    },
    {
      "cell_type": "code",
      "metadata": {
        "id": "RJwByMhNcCEH"
      },
      "source": [
        "plot_pareto_ccdf(3, 1000)"
      ],
      "execution_count": null,
      "outputs": []
    },
    {
      "cell_type": "code",
      "metadata": {
        "id": "2G0KmOl_yFm8"
      },
      "source": [
        "plot_pareto_ccdf(2, 1000)"
      ],
      "execution_count": null,
      "outputs": []
    },
    {
      "cell_type": "code",
      "metadata": {
        "id": "k7CHH5ptyHmj"
      },
      "source": [
        "plot_pareto_ccdf(1, 1000)"
      ],
      "execution_count": null,
      "outputs": []
    },
    {
      "cell_type": "code",
      "metadata": {
        "id": "viJWJaQ3yKLd"
      },
      "source": [
        "plot_pareto_ccdf(0.5, 1000)"
      ],
      "execution_count": null,
      "outputs": []
    },
    {
      "cell_type": "markdown",
      "metadata": {
        "id": "QodJRKpTi5ut"
      },
      "source": [
        "## Questão 2"
      ]
    },
    {
      "cell_type": "markdown",
      "source": [
        "Esta questão é **obrigatória** apenas para alunos da **pós-graduação**.\n",
        "\n",
        "O objetivo desta questão é entender o comportamento da **parte (*c*)** da questão anterior.\n",
        "\n",
        "Você deve ler as duas primeiras seções do artigo https://arxiv.org/pdf/cond-mat/0412004.pdf e fazer um resumo (de no máximo uma página). Certifique-se de incluir no seu resumo, entre outras informações que achar relevantes, o motivo de a CCDF da distribuição de pareto ter a forma que tem quando ambos os eixos estão em escala logarítmica."
      ],
      "metadata": {
        "id": "5bPcjErAjEX8"
      }
    },
    {
      "cell_type": "markdown",
      "source": [
        "## Questão 3"
      ],
      "metadata": {
        "id": "yDHPVwB8qene"
      }
    },
    {
      "cell_type": "markdown",
      "source": [
        "Primeiro, você deve ler os artigos abaixo.\n",
        "1. [Common pitfalls in statistical analysis: The use of correlation techniques](https://www.ncbi.nlm.nih.gov/pmc/articles/PMC5079093/)\n",
        "2. [Chocolate Consumption, Cognitive Function,\n",
        "and Nobel Laureates](https://utw10426.utweb.utexas.edu/quest/Q7/choco.pdf)\n",
        "\n",
        "Resumindo o que foi lido nos artigos, responda as seguintes questões:\n",
        "\n",
        "1. O que é o coeficiente de correlação?\n",
        "2. Quando o coeficiente de correlação é útil e quando ele pode ser a ferramenta errada para analisar a relação entre duas variáveis?\n",
        "3. Qual a diferença entre causalidade e correlação?\n",
        "\n",
        "**Observação 1:** é esperado que a resposta das três perguntas utilize aproximadamente duas páginas A4.\n",
        "\n",
        "**Observação 2:** você pode consultar outras fontes para responder as questões acima. No entanto, é esperado que as respostas sejam no contexto do conteúdo dos artigos."
      ],
      "metadata": {
        "id": "JKOP1xAmjuBY"
      }
    },
    {
      "cell_type": "markdown",
      "source": [
        "## Questão 4"
      ],
      "metadata": {
        "id": "EfKbhPjsshqt"
      }
    },
    {
      "cell_type": "markdown",
      "source": [
        "Obtenha o conjunto de dados disponível no AVA da disciplina para essa questão. O conjunto de dados possui duas colunas: `type` e `score`. Você pode pensar nesses dados como sendo o resultados de medições (`score`) realizadas em um conjunto de objetos que pode ser de três tipos diferentes (`type`)."
      ],
      "metadata": {
        "id": "_nopTyigy2kg"
      }
    },
    {
      "cell_type": "markdown",
      "source": [
        "### Parte (a)"
      ],
      "metadata": {
        "id": "pf-SEtM-svGu"
      }
    },
    {
      "cell_type": "markdown",
      "source": [
        "Leia o conjunto de dados e armazene-o em um `DataFrame` do `Pandas`."
      ],
      "metadata": {
        "id": "ARuCcx_wy6qk"
      }
    },
    {
      "cell_type": "code",
      "source": [],
      "metadata": {
        "id": "vD8DYWZmj7kI"
      },
      "execution_count": null,
      "outputs": []
    },
    {
      "cell_type": "markdown",
      "source": [
        "### Parte (b)"
      ],
      "metadata": {
        "id": "D2SZ4LpBs3Q_"
      }
    },
    {
      "cell_type": "markdown",
      "source": [
        "Usando a biblioteca `seaborn`, Faça o *BoxPlot* da variável `score` para todos os objetos, independentemente do tipo."
      ],
      "metadata": {
        "id": "fL9wDghvkc60"
      }
    },
    {
      "cell_type": "code",
      "source": [],
      "metadata": {
        "id": "dFPBtK1aj8Ts"
      },
      "execution_count": null,
      "outputs": []
    },
    {
      "cell_type": "markdown",
      "source": [
        "Agora, faça, em uma mesma figura, os *BoxPlots* para a variável `score` de acordo com a variável `type`. Isto é, um *BoxPlot* da variável `score` para cada valor de `type`. Novamente, use a biblioteca `seaborn`."
      ],
      "metadata": {
        "id": "WExZ7tluuco-"
      }
    },
    {
      "cell_type": "code",
      "source": [],
      "metadata": {
        "id": "PMHl_GSLtDjn"
      },
      "execution_count": null,
      "outputs": []
    },
    {
      "cell_type": "markdown",
      "source": [
        "Com base **apenas** nos *BoxPlots*, o que é possível afirmar sobre a dispersão/distribuição dos dados das três variáveis? Você diria que as três distribuições são similares?"
      ],
      "metadata": {
        "id": "h3wBonGetEVy"
      }
    },
    {
      "cell_type": "markdown",
      "source": [
        "\n",
        "### Parte (c)"
      ],
      "metadata": {
        "id": "9XBfsGF8kXLm"
      }
    },
    {
      "cell_type": "markdown",
      "source": [
        "Agora:\n",
        "\n",
        "1. Repita a Parte (b), mas agora, ao invés de fazer os *BoxPlots*, faça os histogramas.\n",
        "\n",
        "2. Repita a Parte (b), mas agora, ao invés de fazer os *BoxPlots*, faça as CDFs empíricas (vide Questão 1).\n",
        "\n",
        "3. Repita a Parte (b), mas agora, ao invés de fazer os *BoxPlots*, faça os gráficos de Violino.\n",
        "\n"
      ],
      "metadata": {
        "id": "czTogljmtYbL"
      }
    },
    {
      "cell_type": "code",
      "source": [],
      "metadata": {
        "id": "UWl9VPQ_uAoj"
      },
      "execution_count": null,
      "outputs": []
    },
    {
      "cell_type": "code",
      "source": [],
      "metadata": {
        "id": "E86qEYuxwW8d"
      },
      "execution_count": null,
      "outputs": []
    },
    {
      "cell_type": "code",
      "source": [],
      "metadata": {
        "id": "bQLm7siLwjpi"
      },
      "execution_count": null,
      "outputs": []
    },
    {
      "cell_type": "markdown",
      "source": [
        "Revisitando a conclusão da Parte (b)...\n",
        "\n",
        "Com base nessas novas figuras, o que é possível dizer sobre a dispersão/distribuição das três variáveis? Você diria que as três distribuições são similares?"
      ],
      "metadata": {
        "id": "bdRkO8TeuBHh"
      }
    },
    {
      "cell_type": "markdown",
      "source": [
        "## Questão 5"
      ],
      "metadata": {
        "id": "90F8itvSXzeb"
      }
    },
    {
      "cell_type": "markdown",
      "source": [
        "Ainda no espírito das duas questões anteriores.\n",
        "\n",
        "Leia o conjunto de dados, disponível no AVA, para a Questão 5 e carregue os dados em um `DataFrame` do `Pandas`. O arquivo contém um conjunto de pontos no plano, ou seja, uma coleção de pares ($x$, $y$).\n",
        "\n",
        "Na verdade, o arquivo é uma coleção de vários conjuntos de dados. O arquivo possui três colunas:\n",
        "- `dataset` indica a qual conjunto de dados um ponto pertence\n",
        "- `x` indica a coordenada $x$ de cada ponto do conjunto\n",
        "- `y` indica a coordenada $y$ de cada ponto do conjunto\n",
        "\n"
      ],
      "metadata": {
        "id": "ebDK_TsnX6XG"
      }
    },
    {
      "cell_type": "code",
      "source": [],
      "metadata": {
        "id": "FN2P55-fbbM8"
      },
      "execution_count": null,
      "outputs": []
    },
    {
      "cell_type": "markdown",
      "source": [
        "### Parte (a)"
      ],
      "metadata": {
        "id": "tJcPHupTpHlD"
      }
    },
    {
      "cell_type": "markdown",
      "source": [
        "Para cada um dos 13 conjuntos de dados disponível no arquivo, calule e imprima:\n",
        "1. A média dos valores das colunas `x` e `y`\n",
        "2. O desvio padrão dos valores das colunas `x` e `y`\n",
        "3. A correlação linear entre as colunas `x` e `y`\n",
        "\n",
        "Com base nos valores observados, formule uma hipótese sobre o grau de similaridade entre os diversos conjuntos de dados. Em outras palavras, vocês diriam que eles são similares ou diferentes?\n",
        "\n",
        "**Observação:** tente modularizar seu código e utilizar os recursos do `Pandas`, por exemplo, `groupby`."
      ],
      "metadata": {
        "id": "ui_E23CWpJ41"
      }
    },
    {
      "cell_type": "code",
      "source": [],
      "metadata": {
        "id": "Mn-fYmDwZDai"
      },
      "execution_count": null,
      "outputs": []
    },
    {
      "cell_type": "markdown",
      "source": [
        "### Parte (b)"
      ],
      "metadata": {
        "id": "xEa__o-ZsxPH"
      }
    },
    {
      "cell_type": "markdown",
      "source": [
        "Agora, vamos testar a hipótese estabelecida no item anterior. Faça um gráfico, para cada um dos 13 conjuntos de dados, marcando os pontos de cada conjunto no plano.\n",
        "\n",
        "Com base nos gráficos, o que pode ser dito sobre o grau de similaridade entre os diversos conjuntos de dados? Em outras palavras, vocês diriam que eles são similares ou diferentes?"
      ],
      "metadata": {
        "id": "ZdSz0989szMy"
      }
    },
    {
      "cell_type": "code",
      "source": [],
      "metadata": {
        "id": "_VK7KPuyum36"
      },
      "execution_count": null,
      "outputs": []
    },
    {
      "cell_type": "markdown",
      "source": [
        "## Referências (Spoiler Alert!)"
      ],
      "metadata": {
        "id": "zYh1SwKZaiNY"
      }
    },
    {
      "cell_type": "markdown",
      "source": [
        "Os dados de algumas questões foram obtidos em https://www.research.autodesk.com/publications/same-stats-different-graphs/. Para não estragar a surpresa, sugiro consultar essa referência apenas após tentar resolver as questões. De toda forma, as respostas das perguntas não estão contidas na página citada."
      ],
      "metadata": {
        "id": "C6ikJ9iJaNBM"
      }
    },
    {
      "cell_type": "code",
      "source": [],
      "metadata": {
        "id": "MWgcjC4-0N0z"
      },
      "execution_count": null,
      "outputs": []
    }
  ]
}